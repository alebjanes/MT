{
 "cells": [
  {
   "cell_type": "code",
   "execution_count": 2,
   "metadata": {},
   "outputs": [],
   "source": [
    "import numpy as np \n",
    "import gdal\n",
    "from osgeo import gdal_array"
   ]
  },
  {
   "cell_type": "code",
   "execution_count": 118,
   "metadata": {
    "tags": []
   },
   "outputs": [
    {
     "output_type": "stream",
     "name": "stdout",
     "text": "global max: 83.0 2015 01\nglobal min: -9999.0 2015 01\nglobal max: 83.0 2015 05\nglobal max: 83.0 2015 07\n-9999.0\n83.0\n"
    }
   ],
   "source": [
    "years=['2015', '2017']\n",
    "months=['01', '02', '03', '04', '05', '06', '07','08', '09', '10', '11', '12']\n",
    "\n",
    "max_0=0\n",
    "min_0=0\n",
    "\n",
    "for i in years:\n",
    "    for j in months:\n",
    "        A=gdal_array.LoadFile(\"/Users/alexandrabjanes/MT/DatosRegion9/Clipped/CW\" + i + j + \"ws.sdat\")\n",
    "        max_val = np.amax(A)\n",
    "        min_val = np.amin(A)\n",
    "        if max_val > max_0:\n",
    "            max_0 = max_val\n",
    "            print(\"global max:\", maxtn, i, j)\n",
    "        if min_val < min_0:\n",
    "            min_0 = min_val\n",
    "            print(\"global min:\", mintn, i, j)\n",
    "\n",
    "print(min_0)\n",
    "print(max_0)"
   ]
  },
  {
   "cell_type": "code",
   "execution_count": 80,
   "metadata": {},
   "outputs": [],
   "source": [
    "def GeoTiff1banda(Name, Array, driver, NDV, DataType, bas):\n",
    "    Array[np.isnan(Array)] = NDV\n",
    "    driver = gdal.GetDriverByName(driver)\n",
    "    DataSet = driver.Create(Name, 480, 550, 1, eType=gdal.GDT_Float32)\n",
    "    Geotr = bas.GetGeoTransform()\n",
    "    proj = bas.GetProjection()\n",
    "    DataSet.SetGeoTransform(Geotr)\n",
    "    DataSet.SetProjection(proj)\n",
    "    DataSet.GetRasterBand(1).WriteArray(Array)\n",
    "    DataSet.GetRasterBand(1).SetNoDataValue(NDV)\n",
    "    DataSet.FlushCache()\n",
    "    return Name"
   ]
  },
  {
   "cell_type": "code",
   "execution_count": 84,
   "metadata": {},
   "outputs": [],
   "source": [
    "def normalize(matriz, variable):\n",
    "    X_norm = np.zeros((550, 480))\n",
    "    X = matriz\n",
    "    if variable == 'cwd':\n",
    "        #maxval = 190\n",
    "        maxval = 193\n",
    "        minval = 0\n",
    "    elif variable == 'NDVI':\n",
    "        maxval = 9999\n",
    "        minval = -3000\n",
    "    elif variable == 'aet':\n",
    "        #maxval = 133\n",
    "        maxval = 144\n",
    "        minval = 0\n",
    "    elif variable == 'ws':\n",
    "        #maxval = 61\n",
    "        maxval = 83\n",
    "        minval = 0\n",
    "    elif variable == 'tx':\n",
    "        maxval = 34\n",
    "        minval = -1\n",
    "    elif variable == 'tn':\n",
    "        #maxval = 15\n",
    "        maxval = 16\n",
    "        minval = -9\n",
    "    elif variable == 'rn':\n",
    "        maxval = 935\n",
    "        minval = 0\n",
    "  \n",
    "    for i in range(550):\n",
    "        for j in range(480):\n",
    "            if X[i,j] < -9990:\n",
    "                X_norm[i,j] = -99999\n",
    "            elif X[i,j] > -9990:\n",
    "                X_norm[i,j] = (X[i,j] - minval) / (maxval - minval)\n",
    "\n",
    "    return X_norm\n",
    "    "
   ]
  },
  {
   "cell_type": "code",
   "execution_count": 117,
   "metadata": {},
   "outputs": [
    {
     "output_type": "execute_result",
     "data": {
      "text/plain": "'/Users/alexandrabjanes/MT/Datos500m/Normalized2/201409NDVI.tif'"
     },
     "metadata": {},
     "execution_count": 117
    }
   ],
   "source": [
    "year=2013\n",
    "yearmonth=201301\n",
    "base=gdal.Open(\"/Users/alexandrabjanes/MT/Datos500m/Normalized/DistanceToUA.tif\")\n",
    "\n",
    "tmax = gdal_array.LoadFile(\"/Users/alexandrabjanes/MT/Datos500m/clipped/\" +str(year)+ \"/C\" + str(yearmonth) + \"tx.sdat\")\n",
    "tmin = gdal_array.LoadFile(\"/Users/alexandrabjanes/MT/Datos500m/clipped/\" +str(year)+ \"/C\" + str(yearmonth) + \"tn.sdat\")\n",
    "windspeed = gdal_array.LoadFile(\"/Users/alexandrabjanes/MT/Datos500m/clipped/\" +str(year)+ \"/C\" + str(yearmonth) + \"ws.sdat\")\n",
    "prec = gdal_array.LoadFile(\"/Users/alexandrabjanes/MT/Datos500m/clipped/\" +str(year)+ \"/C\" + str(yearmonth) + \"rn.sdat\")\n",
    "aet = gdal_array.LoadFile(\"/Users/alexandrabjanes/MT/Datos500m/clipped/\" +str(year)+ \"/C\" + str(yearmonth) + \"aet.sdat\")\n",
    "cwd = gdal_array.LoadFile(\"/Users/alexandrabjanes/MT/Datos500m/clipped/\" +str(year)+ \"/C\" + str(yearmonth) + \"cwd.sdat\")\n",
    "NDVI = gdal_array.LoadFile(\"/Users/alexandrabjanes/MT/Datos500m/clipped/\" +str(year)+ \"/C\" + str(yearmonth) + \"NDVI.sdat\")\n",
    "\n",
    "norm_tmax = normalize(tmax, 'tx')\n",
    "norm_tmin = normalize(tmin, 'tn')\n",
    "norm_ws = normalize(windspeed, 'ws')\n",
    "norm_rn = normalize(prec, 'rn')\n",
    "norm_aet = normalize(aet, 'aet')\n",
    "norm_cwd = normalize(cwd, 'cwd')\n",
    "norm_NDVI = normalize(NDVI, 'NDVI')\n",
    "\n",
    "GeoTiff1banda('/Users/alexandrabjanes/MT/Datos500m/Normalized2/'+ str(yearmonth) +'tx.tif', norm_tmax, driver=\"GTiff\", NDV=-99999, DataType=gdal.GDT_Float32, bas=base)\n",
    "GeoTiff1banda('/Users/alexandrabjanes/MT/Datos500m/Normalized2/'+ str(yearmonth) +'tn.tif', norm_tmin, driver=\"GTiff\", NDV=-99999, DataType=gdal.GDT_Float32, bas=base)\n",
    "GeoTiff1banda('/Users/alexandrabjanes/MT/Datos500m/Normalized2/'+ str(yearmonth) +'ws.tif', norm_ws, driver=\"GTiff\", NDV=-99999, DataType=gdal.GDT_Float32, bas=base)\n",
    "GeoTiff1banda('/Users/alexandrabjanes/MT/Datos500m/Normalized2/'+ str(yearmonth) +'rn.tif', norm_rn, driver=\"GTiff\", NDV=-99999, DataType=gdal.GDT_Float32, bas=base)\n",
    "GeoTiff1banda('/Users/alexandrabjanes/MT/Datos500m/Normalized2/'+ str(yearmonth) +'aet.tif', norm_aet, driver=\"GTiff\", NDV=-99999, DataType=gdal.GDT_Float32, bas=base)\n",
    "GeoTiff1banda('/Users/alexandrabjanes/MT/Datos500m/Normalized2/'+ str(yearmonth) +'cwd.tif', norm_cwd, driver=\"GTiff\", NDV=-99999, DataType=gdal.GDT_Float32, bas=base)\n",
    "GeoTiff1banda('/Users/alexandrabjanes/MT/Datos500m/Normalized2/'+ str(yearmonth) +'NDVI.tif', norm_NDVI, driver=\"GTiff\", NDV=-99999, DataType=gdal.GDT_Float32, bas=base)"
   ]
  },
  {
   "cell_type": "code",
   "execution_count": null,
   "metadata": {},
   "outputs": [],
   "source": []
  }
 ],
 "metadata": {
  "language_info": {
   "codemirror_mode": {
    "name": "ipython",
    "version": 3
   },
   "file_extension": ".py",
   "mimetype": "text/x-python",
   "name": "python",
   "nbconvert_exporter": "python",
   "pygments_lexer": "ipython3",
   "version": "3.7.0-final"
  },
  "orig_nbformat": 2,
  "kernelspec": {
   "name": "python37064bitmemoriaconda293803e29cfd42b989740e58bb85794b",
   "display_name": "Python 3.7.0 64-bit ('memoria': conda)"
  }
 },
 "nbformat": 4,
 "nbformat_minor": 2
}